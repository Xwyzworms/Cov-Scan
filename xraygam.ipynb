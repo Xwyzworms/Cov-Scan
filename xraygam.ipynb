{
  "nbformat": 4,
  "nbformat_minor": 0,
  "metadata": {
    "kernelspec": {
      "display_name": "Python 3",
      "language": "python",
      "name": "python3"
    },
    "language_info": {
      "codemirror_mode": {
        "name": "ipython",
        "version": 3
      },
      "file_extension": ".py",
      "mimetype": "text/x-python",
      "name": "python",
      "nbconvert_exporter": "python",
      "pygments_lexer": "ipython3",
      "version": "3.6.12"
    },
    "colab": {
      "name": "xraygam.ipynb",
      "provenance": [],
      "collapsed_sections": []
    },
    "accelerator": "GPU"
  },
  "cells": [
    {
      "cell_type": "code",
      "metadata": {
        "colab": {
          "base_uri": "https://localhost:8080/"
        },
        "id": "BBzcB-ZAzSQm",
        "outputId": "031798d2-100f-4e6f-e92f-31ba2f89cb33"
      },
      "source": [
        "from google.colab import drive\n",
        "drive.mount(\"/content/drive\")"
      ],
      "execution_count": 13,
      "outputs": [
        {
          "output_type": "stream",
          "text": [
            "Drive already mounted at /content/drive; to attempt to forcibly remount, call drive.mount(\"/content/drive\", force_remount=True).\n"
          ],
          "name": "stdout"
        }
      ]
    },
    {
      "cell_type": "code",
      "metadata": {
        "id": "6ViDWqmEzfqb"
      },
      "source": [
        "import os\n",
        "os.environ['KAGGLE_CONFIG_DIR'] = \"/content/drive/My Drive/Kaggle\""
      ],
      "execution_count": 14,
      "outputs": []
    },
    {
      "cell_type": "code",
      "metadata": {
        "colab": {
          "base_uri": "https://localhost:8080/"
        },
        "id": "g2NIDLzCzsyq",
        "outputId": "2fad54cc-78b8-483e-fd9d-69179d1bacb1"
      },
      "source": [
        "%cd /content/drive/My Drive/Kaggle"
      ],
      "execution_count": 15,
      "outputs": [
        {
          "output_type": "stream",
          "text": [
            "/content/drive/My Drive/Kaggle\n"
          ],
          "name": "stdout"
        }
      ]
    },
    {
      "cell_type": "code",
      "metadata": {
        "colab": {
          "base_uri": "https://localhost:8080/"
        },
        "id": "jjjArNLJzuv6",
        "outputId": "2b660fb4-27f3-4fa3-bcbf-6034349210ec"
      },
      "source": [
        "!pwd"
      ],
      "execution_count": 16,
      "outputs": [
        {
          "output_type": "stream",
          "text": [
            "/content/drive/My Drive/Kaggle\n"
          ],
          "name": "stdout"
        }
      ]
    },
    {
      "cell_type": "code",
      "metadata": {
        "id": "xKTQuB_v0VaE"
      },
      "source": [
        "#!kaggle datasets download -d prashant268/chest-xray-covid19-pneumonia"
      ],
      "execution_count": 17,
      "outputs": []
    },
    {
      "cell_type": "code",
      "metadata": {
        "id": "UKCn7iIN2dnb"
      },
      "source": [
        "#!unzip \\*.zip  && rm *.zip"
      ],
      "execution_count": 18,
      "outputs": []
    },
    {
      "cell_type": "code",
      "metadata": {
        "_cell_guid": "b1076dfc-b9ad-4769-8c92-a6c4dae69d19",
        "_uuid": "8f2839f25d086af736a60e9eeb907d3b93b6e0e5",
        "colab": {
          "base_uri": "https://localhost:8080/"
        },
        "id": "9QctUnh8u_X0",
        "outputId": "9a7df404-9b4d-4a77-940e-31d8e6516c94"
      },
      "source": [
        "import pandas as pd\n",
        "import numpy as np\n",
        "import cv2 as cv\n",
        "import tensorflow as tf\n",
        "import matplotlib.pyplot as plt\n",
        "import glob\n",
        "from matplotlib.image import imread\n",
        "import tensorflow_datasets as tfds\n",
        "\n",
        "from tensorflow.keras.preprocessing.image import ImageDataGenerator\n",
        "\n",
        "\n",
        "print(\"Pandas Version %s\" %pd.__version__)\n",
        "print(\"Numpy version %s\" % np.__version__)\n",
        "print(\"Tensorflow Version %s\" % tf.__version__)\n",
        "print(\"CV Version %s\" % cv.__version__)"
      ],
      "execution_count": 19,
      "outputs": [
        {
          "output_type": "stream",
          "text": [
            "Pandas Version 1.1.5\n",
            "Numpy version 1.19.5\n",
            "Tensorflow Version 2.4.1\n",
            "CV Version 4.1.2\n"
          ],
          "name": "stdout"
        }
      ]
    },
    {
      "cell_type": "code",
      "metadata": {
        "id": "OMV6wjjRzR3z"
      },
      "source": [
        ""
      ],
      "execution_count": 19,
      "outputs": []
    },
    {
      "cell_type": "code",
      "metadata": {
        "colab": {
          "base_uri": "https://localhost:8080/"
        },
        "id": "bZbIoCmMu_X6",
        "outputId": "cf7e4477-bb68-4c68-e0bb-b03f8d362ea0"
      },
      "source": [
        "# Take A look To data\n",
        "print(\"Train Covid \" ,len(os.listdir(\"/content/drive/My Drive/Kaggle/Data/train/COVID19/\")))\n",
        "print(\"Train normal\", len(os.listdir(\"/content/drive/My Drive/Kaggle/Data/train/NORMAL//\")))\n",
        "\n",
        "print(\"Test Covid\", len(os.listdir(\"/content/drive/My Drive/Kaggle/Data/test/COVID19/\")))\n",
        "print(\"Test Normal\", len(os.listdir(\"/content/drive/My Drive/Kaggle/Data/test/NORMAL/\")))\n",
        "\n",
        "\n",
        "\n"
      ],
      "execution_count": 20,
      "outputs": [
        {
          "output_type": "stream",
          "text": [
            "Train Covid  460\n",
            "Train normal 1266\n",
            "Test Covid 116\n",
            "Test Normal 317\n"
          ],
          "name": "stdout"
        }
      ]
    },
    {
      "cell_type": "code",
      "metadata": {
        "colab": {
          "base_uri": "https://localhost:8080/"
        },
        "id": "13JusPvSu_X8",
        "outputId": "dc4f3a32-aab1-4940-a3e9-b172f097a031"
      },
      "source": [
        "TRAININGXRAY = \"/content/drive/My Drive/Kaggle/Data/train/\"\n",
        "TESTXRAY = \"/content/drive/My Drive/Kaggle/Data/test/\"\n",
        "\n",
        "\n",
        "strategy = tf.distribute.MirroredStrategy()\n",
        "print(\"Number of devices %d\" %(strategy.num_replicas_in_sync))\n",
        "BATCH_PER_REPLICA = 32 \n",
        "BATCH_SIZE = BATCH_PER_REPLICA * strategy.num_replicas_in_sync"
      ],
      "execution_count": 21,
      "outputs": [
        {
          "output_type": "stream",
          "text": [
            "WARNING:tensorflow:There are non-GPU devices in `tf.distribute.Strategy`, not using nccl allreduce.\n"
          ],
          "name": "stdout"
        },
        {
          "output_type": "stream",
          "text": [
            "WARNING:tensorflow:There are non-GPU devices in `tf.distribute.Strategy`, not using nccl allreduce.\n"
          ],
          "name": "stderr"
        },
        {
          "output_type": "stream",
          "text": [
            "INFO:tensorflow:Using MirroredStrategy with devices ('/job:localhost/replica:0/task:0/device:CPU:0',)\n"
          ],
          "name": "stdout"
        },
        {
          "output_type": "stream",
          "text": [
            "INFO:tensorflow:Using MirroredStrategy with devices ('/job:localhost/replica:0/task:0/device:CPU:0',)\n"
          ],
          "name": "stderr"
        },
        {
          "output_type": "stream",
          "text": [
            "Number of devices 1\n"
          ],
          "name": "stdout"
        }
      ]
    },
    {
      "cell_type": "code",
      "metadata": {
        "colab": {
          "base_uri": "https://localhost:8080/"
        },
        "id": "3pbumL2Ru_X9",
        "outputId": "8811cd82-bffd-4603-fc54-80a719951741"
      },
      "source": [
        "data = \"/content/drive/My Drive/Kaggle/Data/train/COVID19/COVID19(0).jpg\"\n",
        "cv.imread(data).shape"
      ],
      "execution_count": 22,
      "outputs": [
        {
          "output_type": "execute_result",
          "data": {
            "text/plain": [
              "(2000, 2000, 3)"
            ]
          },
          "metadata": {
            "tags": []
          },
          "execution_count": 22
        }
      ]
    },
    {
      "cell_type": "code",
      "metadata": {
        "colab": {
          "base_uri": "https://localhost:8080/"
        },
        "id": "Efyo08Qku_X-",
        "outputId": "7ad189bc-6a86-4b8b-fec8-4aa7d036e753"
      },
      "source": [
        "trainXrayDatagen = ImageDataGenerator(rescale=1./255,\n",
        "                                     rotation_range=40,\n",
        "                                     width_shift_range=0.2,\n",
        "                                     height_shift_range=0.2,\n",
        "                                     shear_range=0.2,\n",
        "                                     zoom_range=0.2,\n",
        "                                     horizontal_flip=True,\n",
        "                                     fill_mode=\"nearest\")\n",
        "\n",
        "trainXrayGenerator = trainXrayDatagen.flow_from_directory(TRAININGXRAY,\n",
        "                                                         batch_size=32,\n",
        "                                                         class_mode=\"binary\",\n",
        "                                                         target_size=(150,150))\n",
        "\n",
        "testXrayDatagen = ImageDataGenerator(rescale=1./255,)\n",
        "testXrayGenerator = testXrayDatagen.flow_from_directory(TESTXRAY,\n",
        "                                                       batch_size=32,\n",
        "                                                       class_mode=\"binary\",\n",
        "                                                       target_size=(150,150))\n"
      ],
      "execution_count": 28,
      "outputs": [
        {
          "output_type": "stream",
          "text": [
            "Found 1726 images belonging to 2 classes.\n",
            "Found 433 images belonging to 2 classes.\n"
          ],
          "name": "stdout"
        }
      ]
    },
    {
      "cell_type": "code",
      "metadata": {
        "colab": {
          "base_uri": "https://localhost:8080/"
        },
        "id": "kByNIK6eu_X_",
        "outputId": "1254501b-ee59-4e48-b2e0-72484720e189"
      },
      "source": [
        "stop = tf.keras.callbacks.EarlyStopping(patience=5)\n",
        "\n",
        "with strategy.scope():\n",
        "    inception=tf.keras.applications.inception_v3.InceptionV3(include_top=False,input_shape=(150,150,3),weights='imagenet')\n",
        "    layers = inception.get_layer(\"mixed7\")\n",
        "    finLayer = tf.keras.layers.Flatten()(layers.output)\n",
        "            \n",
        "    dense = tf.keras.layers.Dense(units=256,activation=tf.nn.relu)(finLayer)\n",
        "    dense = tf.keras.layers.Dropout(0.3)(dense)\n",
        "    dense = tf.keras.layers.Dense(units=128,activation=tf.nn.relu)(dense)\n",
        "    dense = tf.keras.layers.Dropout(0.3)(dense)\n",
        "    dense = tf.keras.layers.Dense(64,activation=tf.nn.relu)(dense)\n",
        "    output = tf.keras.layers.Dense(units=1,activation=tf.nn.sigmoid)(dense)\n",
        "\n",
        "    xrayModel= tf.keras.Model(inputs=inception.input,outputs= output)\n",
        "\n",
        "xrayModel.compile(optimizer = tf.keras.optimizers.Adam(learning_rate=0.0001),\n",
        "                 loss =\"binary_crossentropy\", \n",
        "                 metrics=[\"acc\"])\n",
        "history = xrayModel.fit(trainXrayGenerator,epochs=10,\n",
        "                       validation_data=testXrayGenerator,callbacks=[stop])"
      ],
      "execution_count": 29,
      "outputs": [
        {
          "output_type": "stream",
          "text": [
            "Epoch 1/10\n",
            "54/54 [==============================] - 422s 7s/step - loss: 0.3880 - acc: 0.7922 - val_loss: 0.4018 - val_acc: 0.9145\n",
            "Epoch 2/10\n",
            "54/54 [==============================] - 405s 7s/step - loss: 0.0612 - acc: 0.9788 - val_loss: 0.0611 - val_acc: 0.9792\n",
            "Epoch 3/10\n",
            "54/54 [==============================] - 407s 7s/step - loss: 0.0293 - acc: 0.9894 - val_loss: 0.0683 - val_acc: 0.9746\n",
            "Epoch 4/10\n",
            "54/54 [==============================] - 392s 7s/step - loss: 0.0562 - acc: 0.9798 - val_loss: 0.0537 - val_acc: 0.9746\n",
            "Epoch 5/10\n",
            "54/54 [==============================] - 396s 7s/step - loss: 0.0186 - acc: 0.9937 - val_loss: 0.0165 - val_acc: 0.9931\n",
            "Epoch 6/10\n",
            "54/54 [==============================] - 396s 7s/step - loss: 0.0174 - acc: 0.9946 - val_loss: 0.0105 - val_acc: 0.9954\n",
            "Epoch 7/10\n",
            "54/54 [==============================] - 396s 7s/step - loss: 0.0162 - acc: 0.9948 - val_loss: 0.0014 - val_acc: 1.0000\n",
            "Epoch 8/10\n",
            "54/54 [==============================] - 400s 7s/step - loss: 0.0374 - acc: 0.9927 - val_loss: 0.0073 - val_acc: 0.9954\n",
            "Epoch 9/10\n",
            "54/54 [==============================] - 402s 7s/step - loss: 0.0098 - acc: 0.9984 - val_loss: 0.0090 - val_acc: 0.9954\n",
            "Epoch 10/10\n",
            "54/54 [==============================] - 396s 7s/step - loss: 0.0125 - acc: 0.9944 - val_loss: 0.0012 - val_acc: 1.0000\n"
          ],
          "name": "stdout"
        }
      ]
    },
    {
      "cell_type": "code",
      "metadata": {
        "colab": {
          "base_uri": "https://localhost:8080/",
          "height": 391
        },
        "id": "qdjfImwCu_YB",
        "outputId": "f85e966f-4964-4222-8848-a55684693ec4"
      },
      "source": [
        "pd.DataFrame(history.history)[[\"loss\",\"val_loss\"]].plot(figsize=(16,6),marker=\"o\",mfc=\"g\")\n"
      ],
      "execution_count": 30,
      "outputs": [
        {
          "output_type": "execute_result",
          "data": {
            "text/plain": [
              "<matplotlib.axes._subplots.AxesSubplot at 0x7f3633ee8890>"
            ]
          },
          "metadata": {
            "tags": []
          },
          "execution_count": 30
        },
        {
          "output_type": "display_data",
          "data": {
            "image/png": "[encoded data removed]",
            "text/plain": [
              "<Figure size 1152x432 with 1 Axes>"
            ]
          },
          "metadata": {
            "tags": [],
            "needs_background": "light"
          }
        }
      ]
    },
    {
      "cell_type": "code",
      "metadata": {
        "colab": {
          "base_uri": "https://localhost:8080/",
          "height": 391
        },
        "id": "m7S4Ux1Cu_YC",
        "outputId": "4b7b574e-ade1-4e42-da36-680124fb6f4d"
      },
      "source": [
        "pd.DataFrame(history.history)[[\"acc\",\"val_acc\"]].plot(figsize=(16,6),marker=\"o\",mfc=\"g\")\n"
      ],
      "execution_count": 31,
      "outputs": [
        {
          "output_type": "execute_result",
          "data": {
            "text/plain": [
              "<matplotlib.axes._subplots.AxesSubplot at 0x7f3649c68910>"
            ]
          },
          "metadata": {
            "tags": []
          },
          "execution_count": 31
        },
        {
          "output_type": "display_data",
          "data": {
            "image/png": "[encoded data removed]",
            "text/plain": [
              "<Figure size 1152x432 with 1 Axes>"
            ]
          },
          "metadata": {
            "tags": [],
            "needs_background": "light"
          }
        }
      ]
    },
    {
      "cell_type": "code",
      "metadata": {
        "colab": {
          "base_uri": "https://localhost:8080/"
        },
        "id": "CcLWW1meu_YE",
        "outputId": "fdcce315-f462-47ef-f534-2b28193c7dde"
      },
      "source": [
        "from random import randint\n",
        "random_indx = randint(1, len(os.listdir(TESTXRAY + \"/COVID19\")))\n",
        "random_image_name_cov = os.listdir(TESTXRAY + \"/COVID19\")[random_indx]\n",
        "\n",
        "random_indx_normal = randint(1, len(os.listdir(TESTXRAY + \"/NORMAL\") ))\n",
        "\n",
        "random_image_name_normal = os.listdir(TESTXRAY + \"/NORMAL\") [random_indx_normal]\n",
        "print(random_image_name_cov)\n",
        "print(random_image_name_normal)"
      ],
      "execution_count": 33,
      "outputs": [
        {
          "output_type": "stream",
          "text": [
            "COVID19(504).jpg\n",
            "NORMAL(1399).jpg\n"
          ],
          "name": "stdout"
        }
      ]
    },
    {
      "cell_type": "code",
      "metadata": {
        "colab": {
          "base_uri": "https://localhost:8080/",
          "height": 167
        },
        "id": "5bGgUX0Zu_YF",
        "outputId": "d2dfa824-5d4b-4731-b590-37f64b69d4c5"
      },
      "source": [
        "from tensorflow.keras.preprocessing import image\n",
        "randCovImg = image.load_img(TESTXRAY + \"/COVID19/\"+random_image_name_cov,target_size=(150,150))\n",
        "randNormImg = image.load_img(TESTXRAY + \"/NORMAL/\" + random_image_name_normal,target_size=(150,150))\n",
        "randCovImg"
      ],
      "execution_count": 34,
      "outputs": [
        {
          "output_type": "execute_result",
          "data": {
            "image/png": "[encoded data removed]",
            "text/plain": [
              "<PIL.Image.Image image mode=RGB size=150x150 at 0x7F3633E5EC50>"
            ]
          },
          "metadata": {
            "tags": []
          },
          "execution_count": 34
        }
      ]
    },
    {
      "cell_type": "code",
      "metadata": {
        "colab": {
          "base_uri": "https://localhost:8080/"
        },
        "id": "AkssbZ5bu_YG",
        "outputId": "f8573b60-7481-4b9b-e646-6a43522c7cf2"
      },
      "source": [
        "random_covid_img_array = image.img_to_array(randCovImg)\n",
        "random_normal_img_array = image.img_to_array(randNormImg)\n",
        "def preprocess(img):\n",
        "    img /= 255\n",
        "    return img\n",
        "\n",
        "random_covid_img_array = preprocess(random_covid_img_array)\n",
        "random_normal_img_array = preprocess(random_normal_img_array)\n",
        "\n",
        "covid_img_array = np.expand_dims(random_covid_img_array,axis=0)\n",
        "normal_img_array = np.expand_dims(random_normal_img_array,axis=0)\n",
        "\n",
        "\n",
        "print(xrayModel.predict(covid_img_array))\n",
        "print(xrayModel.predict(normal_img_array))"
      ],
      "execution_count": 39,
      "outputs": [
        {
          "output_type": "stream",
          "text": [
            "[[0.0010508]]\n",
            "[[1.]]\n"
          ],
          "name": "stdout"
        }
      ]
    },
    {
      "cell_type": "code",
      "metadata": {
        "colab": {
          "base_uri": "https://localhost:8080/"
        },
        "id": "LID57yWvu_YH",
        "outputId": "3f383bb8-14e4-42b4-cfdc-71b3a2576e7a"
      },
      "source": [
        "converter = tf.lite.TFLiteConverter.from_keras_model(xrayModel) # Your model's name\n",
        "model = converter.convert()\n",
        "file = open('/tmp/xray.tflite' , 'wb' ) \n",
        "file.write( model )"
      ],
      "execution_count": 42,
      "outputs": [
        {
          "output_type": "stream",
          "text": [
            "INFO:tensorflow:Assets written to: /tmp/tmp_618k67f/assets\n"
          ],
          "name": "stdout"
        },
        {
          "output_type": "stream",
          "text": [
            "INFO:tensorflow:Assets written to: /tmp/tmp_618k67f/assets\n"
          ],
          "name": "stderr"
        },
        {
          "output_type": "execute_result",
          "data": {
            "text/plain": [
              "74565944"
            ]
          },
          "metadata": {
            "tags": []
          },
          "execution_count": 42
        }
      ]
    }
  ]
}