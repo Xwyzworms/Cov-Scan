{
  "nbformat": 4,
  "nbformat_minor": 0,
  "metadata": {
    "colab": {
      "name": "Salinan dari Yow.ipynb",
      "provenance": []
    },
    "kernelspec": {
      "name": "python3",
      "display_name": "Python 3"
    },
    "language_info": {
      "name": "python"
    },
    "accelerator": "GPU"
  },
  "cells": [
    {
      "cell_type": "code",
      "metadata": {
        "id": "jzMKBJb30hVn",
        "colab": {
          "base_uri": "https://localhost:8080/"
        },
        "outputId": "5a2213bc-6f0d-49e1-8184-6048669b79c0"
      },
      "source": [
        "from google.colab import drive\n",
        "drive.mount(\"/content/drive\")"
      ],
      "execution_count": 2,
      "outputs": [
        {
          "output_type": "stream",
          "text": [
            "Mounted at /content/drive\n"
          ],
          "name": "stdout"
        }
      ]
    },
    {
      "cell_type": "code",
      "metadata": {
        "id": "THHp0HPM0M3C",
        "colab": {
          "base_uri": "https://localhost:8080/"
        },
        "outputId": "560051f6-8ac4-4ad8-e088-2afa4fe469da"
      },
      "source": [
        "import pandas as pd\n",
        "import numpy as np\n",
        "import cv2 as cv\n",
        "import tensorflow as tf\n",
        "import matplotlib.pyplot as plt\n",
        "import glob\n",
        "from matplotlib.image import imread\n",
        "import tensorflow_datasets as tfds\n",
        "import os\n",
        "\n",
        "from tensorflow.keras.preprocessing.image import ImageDataGenerator\n",
        "\n",
        "\n",
        "print(\"Pandas Version %s\" %pd.__version__)\n",
        "print(\"Numpy version %s\" % np.__version__)\n",
        "print(\"Tensorflow Version %s\" % tf.__version__)\n",
        "print(\"CV Version %s\" % cv.__version__)"
      ],
      "execution_count": 1,
      "outputs": [
        {
          "output_type": "stream",
          "text": [
            "Pandas Version 1.1.5\n",
            "Numpy version 1.19.5\n",
            "Tensorflow Version 2.4.1\n",
            "CV Version 4.1.2\n"
          ],
          "name": "stdout"
        }
      ]
    },
    {
      "cell_type": "code",
      "metadata": {
        "id": "0aXW5iwC0dk1",
        "colab": {
          "base_uri": "https://localhost:8080/"
        },
        "outputId": "7eb7f1ba-7028-41b0-b173-fceff75797da"
      },
      "source": [
        "TRAININGCT = \"/content/drive/My Drive/XrayModel/DataSetCT/train/\"\n",
        "\n",
        "TESTCT = \"/content/drive/My Drive/XrayModel/DataSetCT/test/\"\n",
        "\n",
        "strategy = tf.distribute.MirroredStrategy()\n",
        "print(\"Number of devices %d\" %(strategy.num_replicas_in_sync))\n",
        "BATCH_PER_REPLICA = 32 \n",
        "BATCH_SIZE = BATCH_PER_REPLICA * strategy.num_replicas_in_sync"
      ],
      "execution_count": 3,
      "outputs": [
        {
          "output_type": "stream",
          "text": [
            "INFO:tensorflow:Using MirroredStrategy with devices ('/job:localhost/replica:0/task:0/device:GPU:0',)\n",
            "Number of devices 1\n"
          ],
          "name": "stdout"
        }
      ]
    },
    {
      "cell_type": "code",
      "metadata": {
        "colab": {
          "base_uri": "https://localhost:8080/"
        },
        "id": "WmIlEYrH0go9",
        "outputId": "d7c1fb65-bca5-439c-f5e5-a304af93de90"
      },
      "source": [
        "trainCtDatagen = ImageDataGenerator(rescale=  1./255,\n",
        "                                   rotation_range=40,\n",
        "                                   width_shift_range=0.2,\n",
        "                                   height_shift_range= 0.2,\n",
        "                                   shear_range = 0.2,\n",
        "                                   zoom_range=0.2,\n",
        "                                   horizontal_flip = True,\n",
        "                                   fill_mode=\"nearest\")\n",
        "trainCtGenerator = trainCtDatagen.flow_from_directory(TRAININGCT,\n",
        "                                                     batch_size=BATCH_SIZE,\n",
        "                                                     class_mode=\"binary\",\n",
        "                                                     target_size=(150,150))\n",
        "testCtDatagen = ImageDataGenerator(rescale=  1./255,)\n",
        "testCtGenerator = testCtDatagen.flow_from_directory(TESTCT,\n",
        "                                                   batch_size=BATCH_SIZE,\n",
        "                                                   class_mode=\"binary\",\n",
        "                                                   target_size=(150,150))\n"
      ],
      "execution_count": 4,
      "outputs": [
        {
          "output_type": "stream",
          "text": [
            "Found 2481 images belonging to 2 classes.\n",
            "Found 200 images belonging to 2 classes.\n"
          ],
          "name": "stdout"
        }
      ]
    },
    {
      "cell_type": "code",
      "metadata": {
        "id": "xVSLt9YR0nA0",
        "colab": {
          "base_uri": "https://localhost:8080/"
        },
        "outputId": "5a70d868-6649-4577-d118-dba1b983b514"
      },
      "source": [
        "stop = tf.keras.callbacks.EarlyStopping(patience=5)\n",
        "with strategy.scope():\n",
        "    \n",
        "    inception=tf.keras.applications.inception_v3.InceptionV3(include_top=False,input_shape=(150,150,3),weights='imagenet')\n",
        "    layers = inception.get_layer(\"mixed7\")\n",
        "    finLayer = tf.keras.layers.Flatten()(layers.output)\n",
        "        \n",
        "    dense = tf.keras.layers.Dense(units=256,activation=tf.nn.relu)(finLayer)\n",
        "    dense = tf.keras.layers.Dropout(0.3)(dense)\n",
        "    dense = tf.keras.layers.Dense(units=128,activation=tf.nn.relu)(dense)\n",
        "    dense = tf.keras.layers.Dropout(0.4)(dense)\n",
        "    dense = tf.keras.layers.Dense(units=64, activation=tf.nn.relu)(dense)\n",
        "    output = tf.keras.layers.Dense(units=1,activation=tf.nn.sigmoid)(dense)\n",
        "    ctScanModel= tf.keras.Model(inputs=inception.input,outputs= output)\n",
        "\n",
        "ctScanModel.compile(optimizer = tf.keras.optimizers.Adam(lr=0.0001),\n",
        "                 loss =\"binary_crossentropy\", \n",
        "                 metrics=[\"acc\"])\n",
        "history = ctScanModel.fit(trainCtGenerator,epochs=15,\n",
        "                       validation_data=testCtGenerator,callbacks=[stop])"
      ],
      "execution_count": 33,
      "outputs": [
        {
          "output_type": "stream",
          "text": [
            "Epoch 1/15\n",
            "78/78 [==============================] - 44s 378ms/step - loss: 0.6146 - acc: 0.6539 - val_loss: 0.4930 - val_acc: 0.7000\n",
            "Epoch 2/15\n",
            "78/78 [==============================] - 27s 350ms/step - loss: 0.3558 - acc: 0.8574 - val_loss: 1.0479 - val_acc: 0.5950\n",
            "Epoch 3/15\n",
            "78/78 [==============================] - 27s 350ms/step - loss: 0.2573 - acc: 0.9085 - val_loss: 0.4092 - val_acc: 0.8150\n",
            "Epoch 4/15\n",
            "78/78 [==============================] - 27s 350ms/step - loss: 0.1939 - acc: 0.9244 - val_loss: 0.3364 - val_acc: 0.8450\n",
            "Epoch 5/15\n",
            "78/78 [==============================] - 27s 350ms/step - loss: 0.2009 - acc: 0.9121 - val_loss: 0.1657 - val_acc: 0.9350\n",
            "Epoch 6/15\n",
            "78/78 [==============================] - 27s 349ms/step - loss: 0.1992 - acc: 0.9237 - val_loss: 0.1824 - val_acc: 0.9300\n",
            "Epoch 7/15\n",
            "78/78 [==============================] - 27s 351ms/step - loss: 0.1595 - acc: 0.9393 - val_loss: 0.1448 - val_acc: 0.9350\n",
            "Epoch 8/15\n",
            "78/78 [==============================] - 27s 349ms/step - loss: 0.1501 - acc: 0.9367 - val_loss: 0.1406 - val_acc: 0.9300\n",
            "Epoch 9/15\n",
            "78/78 [==============================] - 27s 348ms/step - loss: 0.1169 - acc: 0.9587 - val_loss: 0.1689 - val_acc: 0.9300\n",
            "Epoch 10/15\n",
            "78/78 [==============================] - 27s 351ms/step - loss: 0.1045 - acc: 0.9620 - val_loss: 0.0432 - val_acc: 0.9900\n",
            "Epoch 11/15\n",
            "78/78 [==============================] - 27s 350ms/step - loss: 0.0920 - acc: 0.9639 - val_loss: 0.0503 - val_acc: 0.9700\n",
            "Epoch 12/15\n",
            "78/78 [==============================] - 27s 349ms/step - loss: 0.0920 - acc: 0.9642 - val_loss: 0.0820 - val_acc: 0.9550\n",
            "Epoch 13/15\n",
            "78/78 [==============================] - 27s 348ms/step - loss: 0.0954 - acc: 0.9642 - val_loss: 0.0122 - val_acc: 1.0000\n",
            "Epoch 14/15\n",
            "78/78 [==============================] - 27s 350ms/step - loss: 0.0736 - acc: 0.9693 - val_loss: 0.1698 - val_acc: 0.9450\n",
            "Epoch 15/15\n",
            "78/78 [==============================] - 27s 349ms/step - loss: 0.0773 - acc: 0.9726 - val_loss: 0.0077 - val_acc: 0.9950\n"
          ],
          "name": "stdout"
        }
      ]
    },
    {
      "cell_type": "code",
      "metadata": {
        "id": "OzmOM8Qttc1p",
        "outputId": "02f4d7ba-edd4-4dc1-f831-1cdc9a6f1362",
        "colab": {
          "base_uri": "https://localhost:8080/"
        }
      },
      "source": [
        "from tensorflow.keras.preprocessing import image\n",
        "randCovImg = image.load_img(TRAININGCT + \"/covid/\"+\"Covid (1).png\",target_size=(150,150))\n",
        "randCovImgArray =image.img_to_array(randCovImg)\n",
        "randCovImgArray /= 255\n",
        "ctScanModel.predict(tf.expand_dims(randCovImgArray,axis=0))"
      ],
      "execution_count": 78,
      "outputs": [
        {
          "output_type": "execute_result",
          "data": {
            "text/plain": [
              "array([[0.00060031]], dtype=float32)"
            ]
          },
          "metadata": {
            "tags": []
          },
          "execution_count": 78
        }
      ]
    },
    {
      "cell_type": "code",
      "metadata": {
        "id": "UKsQG_4dwAvi",
        "outputId": "892aca28-13c8-40ea-8f48-69b0fe734bc4",
        "colab": {
          "base_uri": "https://localhost:8080/"
        }
      },
      "source": [
        "from tensorflow.keras.preprocessing import image\n",
        "randNonCovImg = image.load_img(TRAININGCT + \"/noncovid/\"+\"Non-Covid (1).png\",target_size=(150,150,3))\n",
        "randNonCovImgArray =image.img_to_array(randNonCovImg)\n",
        "print(randNonCovImgArray.shape)\n",
        "ctScanModel.predict(tf.expand_dims(randNonCovImgArray,axis=0))"
      ],
      "execution_count": 77,
      "outputs": [
        {
          "output_type": "stream",
          "text": [
            "(150, 150, 3)\n"
          ],
          "name": "stdout"
        },
        {
          "output_type": "execute_result",
          "data": {
            "text/plain": [
              "array([[1.]], dtype=float32)"
            ]
          },
          "metadata": {
            "tags": []
          },
          "execution_count": 77
        }
      ]
    },
    {
      "cell_type": "code",
      "metadata": {
        "id": "TqTz1vDwhrFb",
        "colab": {
          "base_uri": "https://localhost:8080/"
        },
        "outputId": "561d4306-758d-49a2-db50-4f3b1ec94e94"
      },
      "source": [
        "converter = tf.lite.TFLiteConverter.from_keras_model(ctScanModel) # Your model's name\n",
        "model = converter.convert()\n",
        "file = open( 'ctScan.tflite' , 'wb' ) \n",
        "file.write( model )"
      ],
      "execution_count": 36,
      "outputs": [
        {
          "output_type": "stream",
          "text": [
            "INFO:tensorflow:Assets written to: /tmp/tmp18fagq4h/assets\n"
          ],
          "name": "stdout"
        },
        {
          "output_type": "execute_result",
          "data": {
            "text/plain": [
              "74566540"
            ]
          },
          "metadata": {
            "tags": []
          },
          "execution_count": 36
        }
      ]
    }
  ]
}